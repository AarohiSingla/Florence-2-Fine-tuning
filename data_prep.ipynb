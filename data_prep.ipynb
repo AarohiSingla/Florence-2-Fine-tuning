{
 "cells": [
  {
   "attachments": {},
   "cell_type": "markdown",
   "id": "c3590899-3033-485c-894a-97bd94acdcb9",
   "metadata": {},
   "source": [
    "# Dataset Prepration\n",
    "Each image must have a prefix and a suffix. For fine-tuning Florence-2 on an object detection task, the prefix (prompt) is always the same: <OD>. \n",
    "\n",
    "The suffix, the expected model response, Each bounding box is described by a string with the following structure: \n",
    "\n",
    "{class_name}<loc{x1}><loc{y1}><loc{x2}><loc{y2}>. Here, the values x1, y1, x2, y2  describe the coordinates of the bounding box vertices.  \n"
   ]
  },
  {
   "cell_type": "code",
   "execution_count": 2,
   "id": "42ce333b-f9b1-4412-be9f-a286895861b1",
   "metadata": {},
   "outputs": [
    {
     "name": "stdout",
     "output_type": "stream",
     "text": [
      "Annotations have been written to custom_dataset/instruments_yolov8/valid/images/val_annotations.json\n"
     ]
    }
   ],
   "source": [
    "import os\n",
    "import json\n",
    "\n",
    "annotations_dir = \"custom_dataset/instruments_yolov8/train/labels\"\n",
    "output_json_file = \"custom_dataset/instruments_yolov8/train/images/train_annotations.json\"\n",
    "\n",
    "\n",
    "# annotations_dir = \"custom_dataset/instruments_yolov8/valid/labels\"\n",
    "# output_json_file = \"custom_dataset/instruments_yolov8/valid/images/val_annotations.json\"\n",
    "\n",
    "\n",
    "def parse_yolo_annotation(annotation_file):\n",
    "    with open(annotation_file, 'r') as f:\n",
    "        lines = f.readlines()\n",
    "   \n",
    "    image_name = os.path.basename(annotation_file).replace('.txt', '.jpg')\n",
    "    prefix = \"<OD>\"\n",
    "    suffix_lines = []\n",
    "   \n",
    "    for line in lines:\n",
    "        parts = line.strip().split()\n",
    "        class_name = parts[0]\n",
    "        x_center = float(parts[1])\n",
    "        y_center = float(parts[2])\n",
    "        width = float(parts[3])\n",
    "        height = float(parts[4])\n",
    "       \n",
    "        x1 = int((x_center - width/2) * 1000)\n",
    "        y1 = int((y_center - height/2) * 1000)\n",
    "        x2 = int((x_center + width/2) * 1000)\n",
    "        y2 = int((y_center + height/2) * 1000)\n",
    "       \n",
    "        # Replace '0' with 'face' in the class name if it equals '0'\n",
    "        if class_name == '0':\n",
    "            class_name = 'DC Power Supply'\n",
    "        elif class_name == '1':\n",
    "            class_name = 'Digital Multimeter'\n",
    "        elif class_name == '2':\n",
    "            class_name = 'Digital Trainer'            \n",
    "        elif class_name == '3':\n",
    "            class_name = 'Function Generator'\n",
    "        elif class_name == '4':\n",
    "            class_name = 'Oscilloscope'           \n",
    "        suffix_line = f\"{class_name}<loc_{x1}><loc_{y1}><loc_{x2}><loc_{y2}>\"\n",
    "        suffix_lines.append(suffix_line)\n",
    "   \n",
    "    json_obj = {\n",
    "        \"image\": image_name,\n",
    "        \"prefix\": prefix,\n",
    "        \"suffix\": \"\".join(suffix_lines)\n",
    "    }\n",
    "   \n",
    "    return json_obj\n",
    "\n",
    "annotations_json_strings = []\n",
    "\n",
    "for filename in os.listdir(annotations_dir):\n",
    "    if filename.endswith(\".txt\"):\n",
    "        annotation_file = os.path.join(annotations_dir, filename)\n",
    "        annotation_obj = parse_yolo_annotation(annotation_file)\n",
    "        json_string = json.dumps(annotation_obj, separators=(',', ':'))\n",
    "        annotations_json_strings.append(json_string)\n",
    "\n",
    "with open(output_json_file, 'w') as json_file:\n",
    "    json_file.write(\"\\n\".join(annotations_json_strings))\n",
    "\n",
    "print(f\"Annotations have been written to {output_json_file}\")\n"
   ]
  },
  {
   "cell_type": "code",
   "execution_count": null,
   "id": "5f063363-bc16-4603-8078-ad9946889528",
   "metadata": {},
   "outputs": [],
   "source": []
  }
 ],
 "metadata": {
  "kernelspec": {
   "display_name": "Python 3 (ipykernel)",
   "language": "python",
   "name": "python3"
  },
  "language_info": {
   "codemirror_mode": {
    "name": "ipython",
    "version": 3
   },
   "file_extension": ".py",
   "mimetype": "text/x-python",
   "name": "python",
   "nbconvert_exporter": "python",
   "pygments_lexer": "ipython3",
   "version": "3.11.6"
  }
 },
 "nbformat": 4,
 "nbformat_minor": 5
}
